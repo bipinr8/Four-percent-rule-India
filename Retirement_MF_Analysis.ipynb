{
 "cells": [
  {
   "cell_type": "code",
   "execution_count": 1,
   "metadata": {},
   "outputs": [],
   "source": [
    "# Analysis of Retirement with Mutual Funds\n",
    "# Analysis period from 1999 Jan to 2020 May\n",
    "\n",
    "#Importing libraries\n",
    "import numpy as np  # useful for many scientific computing in Python\n",
    "import pandas as pd # primary data structure library"
   ]
  },
  {
   "cell_type": "code",
   "execution_count": 2,
   "metadata": {},
   "outputs": [
    {
     "name": "stdout",
     "output_type": "stream",
     "text": [
      "Requirement already satisfied: xlrd in /home/bipin/anaconda3/lib/python3.7/site-packages (1.2.0)\n",
      "xlrd installed!\n"
     ]
    }
   ],
   "source": [
    "# install xlrd to read spreadsheets\n",
    "!pip install xlrd\n",
    "import xlrd\n",
    "print('xlrd installed!')"
   ]
  },
  {
   "cell_type": "code",
   "execution_count": 3,
   "metadata": {},
   "outputs": [
    {
     "name": "stdout",
     "output_type": "stream",
     "text": [
      "Data read into a pandas dataframe!\n"
     ]
    }
   ],
   "source": [
    "# reading excel file into data frame\n",
    "df_data = pd.read_excel('nav_history.xlsx',\n",
    "                       sheet_name='Sheet1')\n",
    "\n",
    "print ('Data read into a pandas dataframe!')"
   ]
  },
  {
   "cell_type": "code",
   "execution_count": 4,
   "metadata": {},
   "outputs": [
    {
     "data": {
      "text/html": [
       "<div>\n",
       "<style scoped>\n",
       "    .dataframe tbody tr th:only-of-type {\n",
       "        vertical-align: middle;\n",
       "    }\n",
       "\n",
       "    .dataframe tbody tr th {\n",
       "        vertical-align: top;\n",
       "    }\n",
       "\n",
       "    .dataframe thead th {\n",
       "        text-align: right;\n",
       "    }\n",
       "</style>\n",
       "<table border=\"1\" class=\"dataframe\">\n",
       "  <thead>\n",
       "    <tr style=\"text-align: right;\">\n",
       "      <th></th>\n",
       "      <th>Date</th>\n",
       "      <th>Liquid Fund – NAV</th>\n",
       "      <th>Equity Fund – NAV</th>\n",
       "    </tr>\n",
       "  </thead>\n",
       "  <tbody>\n",
       "    <tr>\n",
       "      <th>0</th>\n",
       "      <td>Jan 01, 1999</td>\n",
       "      <td>11.41</td>\n",
       "      <td>9.29</td>\n",
       "    </tr>\n",
       "    <tr>\n",
       "      <th>1</th>\n",
       "      <td>Feb 01, 1999</td>\n",
       "      <td>11.52</td>\n",
       "      <td>10.23</td>\n",
       "    </tr>\n",
       "    <tr>\n",
       "      <th>2</th>\n",
       "      <td>Mar 01, 1999</td>\n",
       "      <td>11.62</td>\n",
       "      <td>11.64</td>\n",
       "    </tr>\n",
       "    <tr>\n",
       "      <th>3</th>\n",
       "      <td>Apr 05, 1999</td>\n",
       "      <td>11.74</td>\n",
       "      <td>12.62</td>\n",
       "    </tr>\n",
       "    <tr>\n",
       "      <th>4</th>\n",
       "      <td>May 03, 1999</td>\n",
       "      <td>11.84</td>\n",
       "      <td>11.14</td>\n",
       "    </tr>\n",
       "  </tbody>\n",
       "</table>\n",
       "</div>"
      ],
      "text/plain": [
       "           Date  Liquid Fund – NAV  Equity Fund – NAV\n",
       "0  Jan 01, 1999              11.41               9.29\n",
       "1  Feb 01, 1999              11.52              10.23\n",
       "2  Mar 01, 1999              11.62              11.64\n",
       "3  Apr 05, 1999              11.74              12.62\n",
       "4  May 03, 1999              11.84              11.14"
      ]
     },
     "execution_count": 4,
     "metadata": {},
     "output_type": "execute_result"
    }
   ],
   "source": [
    "# checking data frame\n",
    "df_data.head()"
   ]
  },
  {
   "cell_type": "code",
   "execution_count": 5,
   "metadata": {},
   "outputs": [
    {
     "name": "stdout",
     "output_type": "stream",
     "text": [
      "<class 'pandas.core.frame.DataFrame'>\n",
      "RangeIndex: 257 entries, 0 to 256\n",
      "Data columns (total 3 columns):\n",
      " #   Column             Non-Null Count  Dtype  \n",
      "---  ------             --------------  -----  \n",
      " 0   Date               257 non-null    object \n",
      " 1   Liquid Fund – NAV  257 non-null    float64\n",
      " 2   Equity Fund – NAV  257 non-null    float64\n",
      "dtypes: float64(2), object(1)\n",
      "memory usage: 6.1+ KB\n"
     ]
    }
   ],
   "source": [
    "# view df details\n",
    "df_data.info()"
   ]
  },
  {
   "cell_type": "code",
   "execution_count": 6,
   "metadata": {},
   "outputs": [],
   "source": [
    "# Initial monthly income at 1999 Jan 1 is set to ₹12,000. Reason: at 7% inflation, ₹12,000 ~ ₹50,000 as on 2020\n",
    "# Initial investment is set so that total withdrawal per year is 4% of capital. in this case ₹36 Lakhs\n",
    "# Asset allocation is set to 60% Equity and 40% Debt\n",
    "\n",
    "init_inv=3600000\n",
    "init_eq_per=0.6\n",
    "init_eq=init_inv*init_eq_per\n",
    "init_dt=init_inv-init_eq\n",
    "\n",
    "monthly_income=[] # creating a list for storing monthy income for every year\n",
    "year_num=0 # to track year in progress\n",
    "monthly_income.append(12000)"
   ]
  },
  {
   "cell_type": "code",
   "execution_count": 19,
   "metadata": {},
   "outputs": [],
   "source": [
    "\n",
    "# adding 6 new empty columns\n",
    "df_data['Liquid fund – Units']=\"\"\n",
    "df_data['Equity fund – Units']=\"\"\n",
    "df_data['Redemption']=\"\"\n",
    "df_data['Liquid fund – Value']=\"\"\n",
    "df_data['Equity fund – Value']=\"\"\n",
    "df_data['Equity percent']=\"\"\n",
    "\n",
    "#initializing first row\n",
    "df_data.loc[0,'Liquid fund – Units']=(init_dt-monthly_income[year_num])/df_data.loc[0,'Liquid Fund – NAV']\n",
    "df_data.loc[0,'Equity fund – Units']=init_eq/df_data.loc[0,'Equity Fund – NAV']\n",
    "df_data.loc[0,'Redemption']=monthly_income[year_num]\n",
    "df_data.loc[0,'Liquid fund – Value']=df_data.loc[0,'Liquid fund – Units']*df_data.loc[0,'Liquid Fund – NAV']\n",
    "df_data.loc[0,'Equity fund – Value']=df_data.loc[0,'Equity fund – Units']*df_data.loc[0,'Equity Fund – NAV']\n",
    "df_data.loc[0,'Equity percent']=(100*df_data.loc[0,'Equity fund – Value'])/(df_data.loc[0,'Equity fund – Value']+df_data.loc[0,'Liquid fund – Value'])\n",
    "\n",
    "# number of rows\n",
    "var_rows=len(df_data.index)\n",
    "\n",
    "for i in range(1,var_rows):\n",
    "    if(i%12==11): # when 1 year is completed, asset rebalance is triggered\n",
    "        year_num+=1 # incrementing year number\n",
    "        # calculating asset allocation before redemption and rebalancing\n",
    "        df_data.loc[i,'Liquid fund – Units']=df_data.loc[i-1,'Liquid fund – Units']\n",
    "        df_data.loc[i,'Equity fund – Units']=df_data.loc[i-1,'Equity fund – Units']\n",
    "        df_data.loc[i,'Liquid fund – Value']=df_data.loc[i,'Liquid fund – Units']*df_data.loc[i,'Liquid Fund – NAV']\n",
    "        df_data.loc[i,'Equity fund – Value']=df_data.loc[i,'Equity fund – Units']*df_data.loc[i,'Equity Fund – NAV']\n",
    "        total_value=df_data.loc[i,'Liquid fund – Value']+df_data.loc[i,'Equity fund – Value']\n",
    "        df_data.loc[i,'Equity percent']=(100*df_data.loc[i,'Equity fund – Value'])/total_value\n",
    "        # if equity exceeds 60%\n",
    "        if(df_data.loc[i,'Equity percent']>60):\n",
    "            # equity is above 60%, moving excess equity asset into liquid fund to bring back asset allocation to 60:40\n",
    "            excess_equity=df_data.loc[i,'Equity fund – Value']-(0.6*total_value)\n",
    "            df_data.loc[i,'Liquid fund – Units']=df_data.loc[i,'Liquid fund – Units']+(excess_equity/df_data.loc[i,'Liquid Fund – NAV'])\n",
    "            df_data.loc[i,'Equity fund – Units']=df_data.loc[i,'Equity fund – Units']-(excess_equity/df_data.loc[i,'Equity Fund – NAV'])\n",
    "            df_data.loc[i,'Liquid fund – Value']=df_data.loc[i,'Liquid fund – Units']*df_data.loc[i,'Liquid Fund – NAV']\n",
    "            df_data.loc[i,'Equity fund – Value']=df_data.loc[i,'Equity fund – Units']*df_data.loc[i,'Equity Fund – NAV']\n",
    "        # Finding new monthly withdrawal\n",
    "        monthly_income.append(df_data.loc[i,'Liquid fund – Value']/120) # 10% of liquid fund value is redeemed an year\n",
    "        # recording updated liquid fund units, value and equity percentage after 1 month withdrawal\n",
    "        df_data.loc[i,'Liquid fund – Units']=df_data.loc[i,'Liquid fund – Units']-(monthly_income[year_num]/df_data.loc[i,'Liquid Fund – NAV'])\n",
    "        df_data.loc[i,'Liquid fund – Value']=df_data.loc[i,'Liquid fund – Units']*df_data.loc[i,'Liquid Fund – NAV']\n",
    "        df_data.loc[i,'Equity percent']=(100*df_data.loc[i,'Equity fund – Value'])/(df_data.loc[i,'Equity fund – Value']+df_data.loc[i,'Liquid fund – Value'])\n",
    "        \n",
    "    else:\n",
    "        #code\n",
    "        df_data.loc[i,'Liquid fund – Units']=df_data.loc[i-1,'Liquid fund – Units']-(monthly_income[year_num]/df_data.loc[i,'Liquid Fund – NAV'])\n",
    "        df_data.loc[i,'Equity fund – Units']=df_data.loc[i-1,'Equity fund – Units']\n",
    "        df_data.loc[i,'Redemption']=monthly_income[year_num]\n",
    "        df_data.loc[i,'Liquid fund – Value']=df_data.loc[i,'Liquid fund – Units']*df_data.loc[i,'Liquid Fund – NAV']\n",
    "        df_data.loc[i,'Equity fund – Value']=df_data.loc[i,'Equity fund – Units']*df_data.loc[i,'Equity Fund – NAV']\n",
    "        df_data.loc[i,'Equity percent']=(100*df_data.loc[i,'Equity fund – Value'])/(df_data.loc[i,'Equity fund – Value']+df_data.loc[i,'Liquid fund – Value'])\n",
    "    #end else\n",
    "#end for"
   ]
  },
  {
   "cell_type": "code",
   "execution_count": 23,
   "metadata": {},
   "outputs": [
    {
     "data": {
      "text/plain": [
       "[12000,\n",
       " 21150.871765997643,\n",
       " 21299.190333506813,\n",
       " 20790.229786530803,\n",
       " 20936.01938490954,\n",
       " 20581.327342160406,\n",
       " 20701.80637913786,\n",
       " 34983.68974785774,\n",
       " 40241.621850978285,\n",
       " 55604.83557410367,\n",
       " 70169.82673312609,\n",
       " 86384.77358189163,\n",
       " 85110.82647011589,\n",
       " 89204.49283201185,\n",
       " 104853.14362824633,\n",
       " 103116.96583464602,\n",
       " 102216.22687513399,\n",
       " 101381.36253652693,\n",
       " 140472.8616968913,\n",
       " 137764.85964435062,\n",
       " 138428.1697854247,\n",
       " 160584.71964032488,\n",
       " 157497.1284336916,\n",
       " 162890.93252547825]"
      ]
     },
     "execution_count": 23,
     "metadata": {},
     "output_type": "execute_result"
    }
   ],
   "source": [
    "monthly_income"
   ]
  },
  {
   "cell_type": "code",
   "execution_count": null,
   "metadata": {},
   "outputs": [],
   "source": []
  },
  {
   "cell_type": "code",
   "execution_count": null,
   "metadata": {},
   "outputs": [],
   "source": []
  }
 ],
 "metadata": {
  "kernelspec": {
   "display_name": "Python 3",
   "language": "python",
   "name": "python3"
  },
  "language_info": {
   "codemirror_mode": {
    "name": "ipython",
    "version": 3
   },
   "file_extension": ".py",
   "mimetype": "text/x-python",
   "name": "python",
   "nbconvert_exporter": "python",
   "pygments_lexer": "ipython3",
   "version": "3.7.7"
  }
 },
 "nbformat": 4,
 "nbformat_minor": 4
}
