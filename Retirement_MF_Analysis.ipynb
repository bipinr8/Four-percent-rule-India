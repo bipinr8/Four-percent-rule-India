{
 "cells": [
  {
   "cell_type": "code",
   "execution_count": 1,
   "metadata": {},
   "outputs": [],
   "source": [
    "# Analysis of Retirement with Mutual Funds\n",
    "# Analysis period from 1999 Jan to 2020 May\n",
    "\n",
    "#Importing libraries\n",
    "import numpy as np  # useful for many scientific computing in Python\n",
    "import pandas as pd # primary data structure library"
   ]
  },
  {
   "cell_type": "code",
   "execution_count": 2,
   "metadata": {},
   "outputs": [
    {
     "name": "stdout",
     "output_type": "stream",
     "text": [
      "Requirement already satisfied: xlrd in /home/bipin/anaconda3/lib/python3.7/site-packages (1.2.0)\n",
      "xlrd installed!\n"
     ]
    }
   ],
   "source": [
    "# install xlrd to read spreadsheets\n",
    "!pip install xlrd\n",
    "import xlrd\n",
    "print('xlrd installed!')"
   ]
  },
  {
   "cell_type": "code",
   "execution_count": 3,
   "metadata": {},
   "outputs": [
    {
     "name": "stdout",
     "output_type": "stream",
     "text": [
      "Data read into a pandas dataframe!\n"
     ]
    }
   ],
   "source": [
    "# reading excel file into data frame\n",
    "df_data = pd.read_excel('nav_history.xlsx',\n",
    "                       sheet_name='Sheet1')\n",
    "\n",
    "print ('Data read into a pandas dataframe!')"
   ]
  },
  {
   "cell_type": "code",
   "execution_count": 4,
   "metadata": {},
   "outputs": [
    {
     "data": {
      "text/html": [
       "<div>\n",
       "<style scoped>\n",
       "    .dataframe tbody tr th:only-of-type {\n",
       "        vertical-align: middle;\n",
       "    }\n",
       "\n",
       "    .dataframe tbody tr th {\n",
       "        vertical-align: top;\n",
       "    }\n",
       "\n",
       "    .dataframe thead th {\n",
       "        text-align: right;\n",
       "    }\n",
       "</style>\n",
       "<table border=\"1\" class=\"dataframe\">\n",
       "  <thead>\n",
       "    <tr style=\"text-align: right;\">\n",
       "      <th></th>\n",
       "      <th>Date</th>\n",
       "      <th>Liquid Fund – NAV</th>\n",
       "      <th>Equity Fund – NAV</th>\n",
       "    </tr>\n",
       "  </thead>\n",
       "  <tbody>\n",
       "    <tr>\n",
       "      <th>0</th>\n",
       "      <td>Jan 01, 1999</td>\n",
       "      <td>11.41</td>\n",
       "      <td>9.29</td>\n",
       "    </tr>\n",
       "    <tr>\n",
       "      <th>1</th>\n",
       "      <td>Feb 01, 1999</td>\n",
       "      <td>11.52</td>\n",
       "      <td>10.23</td>\n",
       "    </tr>\n",
       "    <tr>\n",
       "      <th>2</th>\n",
       "      <td>Mar 01, 1999</td>\n",
       "      <td>11.62</td>\n",
       "      <td>11.64</td>\n",
       "    </tr>\n",
       "    <tr>\n",
       "      <th>3</th>\n",
       "      <td>Apr 05, 1999</td>\n",
       "      <td>11.74</td>\n",
       "      <td>12.62</td>\n",
       "    </tr>\n",
       "    <tr>\n",
       "      <th>4</th>\n",
       "      <td>May 03, 1999</td>\n",
       "      <td>11.84</td>\n",
       "      <td>11.14</td>\n",
       "    </tr>\n",
       "  </tbody>\n",
       "</table>\n",
       "</div>"
      ],
      "text/plain": [
       "           Date  Liquid Fund – NAV  Equity Fund – NAV\n",
       "0  Jan 01, 1999              11.41               9.29\n",
       "1  Feb 01, 1999              11.52              10.23\n",
       "2  Mar 01, 1999              11.62              11.64\n",
       "3  Apr 05, 1999              11.74              12.62\n",
       "4  May 03, 1999              11.84              11.14"
      ]
     },
     "execution_count": 4,
     "metadata": {},
     "output_type": "execute_result"
    }
   ],
   "source": [
    "# checking data frame\n",
    "df_data.head()"
   ]
  },
  {
   "cell_type": "code",
   "execution_count": 5,
   "metadata": {},
   "outputs": [
    {
     "name": "stdout",
     "output_type": "stream",
     "text": [
      "<class 'pandas.core.frame.DataFrame'>\n",
      "RangeIndex: 257 entries, 0 to 256\n",
      "Data columns (total 3 columns):\n",
      " #   Column             Non-Null Count  Dtype  \n",
      "---  ------             --------------  -----  \n",
      " 0   Date               257 non-null    object \n",
      " 1   Liquid Fund – NAV  257 non-null    float64\n",
      " 2   Equity Fund – NAV  257 non-null    float64\n",
      "dtypes: float64(2), object(1)\n",
      "memory usage: 6.1+ KB\n"
     ]
    }
   ],
   "source": [
    "# view df details\n",
    "df_data.info()"
   ]
  },
  {
   "cell_type": "code",
   "execution_count": 6,
   "metadata": {},
   "outputs": [],
   "source": [
    "# Initial monthly income at 1999 Jan 1 is set to ₹12,000. Reason: at 7% inflation, ₹12,000 ~ ₹50,000 as on 2020\n",
    "# Initial investment is set so that total withdrawal per year is 4% of capital. in this case ₹36 Lakhs\n",
    "# Asset allocation is set to 60% Equity and 40% Debt\n",
    "\n",
    "init_inv=3600000\n",
    "init_eq_per=0.6\n",
    "init_eq=init_inv*init_eq_per\n",
    "init_dt=init_inv-init_eq\n",
    "\n",
    "monthly_income=[] # creating a list for storing monthy income for every year\n",
    "year_num=0 # to track year in progress\n",
    "monthly_income.append(12000)"
   ]
  },
  {
   "cell_type": "code",
   "execution_count": 10,
   "metadata": {},
   "outputs": [
    {
     "name": "stdout",
     "output_type": "stream",
     "text": [
      "test\n"
     ]
    },
    {
     "ename": "UFuncTypeError",
     "evalue": "ufunc 'subtract' did not contain a loop with signature matching types (dtype('<U32'), dtype('<U32')) -> dtype('<U32')",
     "output_type": "error",
     "traceback": [
      "\u001b[0;31m---------------------------------------------------------------------------\u001b[0m",
      "\u001b[0;31mUFuncTypeError\u001b[0m                            Traceback (most recent call last)",
      "\u001b[0;32m<ipython-input-10-06b6b55566e3>\u001b[0m in \u001b[0;36m<module>\u001b[0;34m\u001b[0m\n\u001b[1;32m     24\u001b[0m     \u001b[0;32melse\u001b[0m\u001b[0;34m:\u001b[0m\u001b[0;34m\u001b[0m\u001b[0;34m\u001b[0m\u001b[0m\n\u001b[1;32m     25\u001b[0m         \u001b[0;31m#code\u001b[0m\u001b[0;34m\u001b[0m\u001b[0;34m\u001b[0m\u001b[0;34m\u001b[0m\u001b[0m\n\u001b[0;32m---> 26\u001b[0;31m         \u001b[0mdf_data\u001b[0m\u001b[0;34m.\u001b[0m\u001b[0mloc\u001b[0m\u001b[0;34m[\u001b[0m\u001b[0mi\u001b[0m\u001b[0;34m,\u001b[0m\u001b[0;34m'Liquid fund – Units'\u001b[0m\u001b[0;34m]\u001b[0m\u001b[0;34m=\u001b[0m\u001b[0mdf_data\u001b[0m\u001b[0;34m.\u001b[0m\u001b[0mloc\u001b[0m\u001b[0;34m[\u001b[0m\u001b[0mi\u001b[0m\u001b[0;34m-\u001b[0m\u001b[0;36m1\u001b[0m\u001b[0;34m,\u001b[0m\u001b[0;34m'Liquid fund – Units'\u001b[0m\u001b[0;34m]\u001b[0m\u001b[0;34m-\u001b[0m\u001b[0;34m(\u001b[0m\u001b[0mmonthly_income\u001b[0m\u001b[0;34m[\u001b[0m\u001b[0myear_num\u001b[0m\u001b[0;34m]\u001b[0m\u001b[0;34m/\u001b[0m\u001b[0mdf_data\u001b[0m\u001b[0;34m.\u001b[0m\u001b[0mloc\u001b[0m\u001b[0;34m[\u001b[0m\u001b[0mi\u001b[0m\u001b[0;34m,\u001b[0m\u001b[0;34m'Liquid Fund – NAV'\u001b[0m\u001b[0;34m]\u001b[0m\u001b[0;34m)\u001b[0m\u001b[0;34m\u001b[0m\u001b[0;34m\u001b[0m\u001b[0m\n\u001b[0m\u001b[1;32m     27\u001b[0m         \u001b[0mdf_data\u001b[0m\u001b[0;34m.\u001b[0m\u001b[0mloc\u001b[0m\u001b[0;34m[\u001b[0m\u001b[0mi\u001b[0m\u001b[0;34m,\u001b[0m\u001b[0;34m'Equity fund – Units'\u001b[0m\u001b[0;34m]\u001b[0m\u001b[0;34m=\u001b[0m\u001b[0mdf_data\u001b[0m\u001b[0;34m.\u001b[0m\u001b[0mloc\u001b[0m\u001b[0;34m[\u001b[0m\u001b[0mi\u001b[0m\u001b[0;34m-\u001b[0m\u001b[0;36m1\u001b[0m\u001b[0;34m,\u001b[0m\u001b[0;34m'Equity fund – Units'\u001b[0m\u001b[0;34m]\u001b[0m\u001b[0;34m\u001b[0m\u001b[0;34m\u001b[0m\u001b[0m\n\u001b[1;32m     28\u001b[0m         \u001b[0mdf_data\u001b[0m\u001b[0;34m.\u001b[0m\u001b[0mloc\u001b[0m\u001b[0;34m[\u001b[0m\u001b[0mi\u001b[0m\u001b[0;34m,\u001b[0m\u001b[0;34m'Redemption'\u001b[0m\u001b[0;34m]\u001b[0m\u001b[0;34m=\u001b[0m\u001b[0mmonthly_income\u001b[0m\u001b[0;34m[\u001b[0m\u001b[0myear_num\u001b[0m\u001b[0;34m]\u001b[0m\u001b[0;34m\u001b[0m\u001b[0;34m\u001b[0m\u001b[0m\n",
      "\u001b[0;31mUFuncTypeError\u001b[0m: ufunc 'subtract' did not contain a loop with signature matching types (dtype('<U32'), dtype('<U32')) -> dtype('<U32')"
     ]
    }
   ],
   "source": [
    "\n",
    "# adding 6 new empty columns\n",
    "df_data['Liquid fund – Units']=\"\"\n",
    "df_data['Equity fund – Units']=\"\"\n",
    "df_data['Redemption']=\"\"\n",
    "df_data['Liquid fund – Value']=\"\"\n",
    "df_data['Equity fund – Value']=\"\"\n",
    "df_data['Equity percent']=\"\"\n",
    "\n",
    "#initializing first row\n",
    "df_data.loc[0,'Liquid fund – Units']=(init_dt-monthly_income[year_num])/df_data.loc[0,'Liquid Fund – NAV']\n",
    "df_data.loc[0,'Equity fund – Units']=init_eq/df_data.loc[0,'Equity Fund – NAV']\n",
    "df_data.loc[0,'Redemption']=monthly_income[year_num]\n",
    "df_data.loc[0,'Liquid fund – Value']=df_data.loc[0,'Liquid fund – Units']*df_data.loc[0,'Liquid Fund – NAV']\n",
    "df_data.loc[0,'Equity fund – Value']=df_data.loc[0,'Equity fund – Units']*df_data.loc[0,'Equity Fund – NAV']\n",
    "df_data.loc[0,'Equity percent']=(100*df_data.loc[0,'Equity fund – Value'])/(df_data.loc[0,'Equity fund – Value']+df_data.loc[0,'Liquid fund – Value'])\n",
    "\n",
    "# number of rows\n",
    "var_rows=len(df_data.index)\n",
    "\n",
    "for i in range(1,var_rows):\n",
    "    if(i%12==11): # when 1 year is completed\n",
    "        #code\n",
    "        print('test')\n",
    "    else:\n",
    "        #code\n",
    "        df_data.loc[i,'Liquid fund – Units']=df_data.loc[i-1,'Liquid fund – Units']-(monthly_income[year_num]/df_data.loc[i,'Liquid Fund – NAV'])\n",
    "        df_data.loc[i,'Equity fund – Units']=df_data.loc[i-1,'Equity fund – Units']\n",
    "        df_data.loc[i,'Redemption']=monthly_income[year_num]\n",
    "        df_data.loc[i,'Liquid fund – Value']=df_data.loc[i,'Liquid fund – Units']*df_data.loc[i,'Liquid Fund – NAV']\n",
    "        df_data.loc[i,'Equity fund – Value']=df_data.loc[i,'Equity fund – Units']*df_data.loc[i,'Equity Fund – NAV']\n",
    "        df_data.loc[i,'Equity percent']=(100*df_data.loc[i,'Equity fund – Value'])/(df_data.loc[i,'Equity fund – Value']+df_data.loc[0,'Liquid fund – Value'])\n",
    "    #end else\n",
    "#end for"
   ]
  },
  {
   "cell_type": "code",
   "execution_count": 17,
   "metadata": {},
   "outputs": [
    {
     "data": {
      "text/html": [
       "<div>\n",
       "<style scoped>\n",
       "    .dataframe tbody tr th:only-of-type {\n",
       "        vertical-align: middle;\n",
       "    }\n",
       "\n",
       "    .dataframe tbody tr th {\n",
       "        vertical-align: top;\n",
       "    }\n",
       "\n",
       "    .dataframe thead th {\n",
       "        text-align: right;\n",
       "    }\n",
       "</style>\n",
       "<table border=\"1\" class=\"dataframe\">\n",
       "  <thead>\n",
       "    <tr style=\"text-align: right;\">\n",
       "      <th></th>\n",
       "      <th>Date</th>\n",
       "      <th>Liquid Fund – NAV</th>\n",
       "      <th>Equity Fund – NAV</th>\n",
       "      <th>Liquid fund – Units</th>\n",
       "      <th>Equity fund – Units</th>\n",
       "      <th>Redemption</th>\n",
       "      <th>Liquid fund – Value</th>\n",
       "      <th>Equity fund – Value</th>\n",
       "      <th>Equity percent</th>\n",
       "    </tr>\n",
       "  </thead>\n",
       "  <tbody>\n",
       "    <tr>\n",
       "      <th>0</th>\n",
       "      <td>Jan 01, 1999</td>\n",
       "      <td>11.41</td>\n",
       "      <td>9.29</td>\n",
       "      <td>125153</td>\n",
       "      <td>232508</td>\n",
       "      <td>12000</td>\n",
       "      <td>1.428e+06</td>\n",
       "      <td>2.16e+06</td>\n",
       "      <td>60.2007</td>\n",
       "    </tr>\n",
       "    <tr>\n",
       "      <th>1</th>\n",
       "      <td>Feb 01, 1999</td>\n",
       "      <td>11.52</td>\n",
       "      <td>10.23</td>\n",
       "      <td>124112</td>\n",
       "      <td>232508</td>\n",
       "      <td>12000</td>\n",
       "      <td>1.42977e+06</td>\n",
       "      <td>2.37856e+06</td>\n",
       "      <td>62.4858</td>\n",
       "    </tr>\n",
       "    <tr>\n",
       "      <th>2</th>\n",
       "      <td>Mar 01, 1999</td>\n",
       "      <td>11.62</td>\n",
       "      <td>11.64</td>\n",
       "      <td>123079</td>\n",
       "      <td>232508</td>\n",
       "      <td>12000</td>\n",
       "      <td>1.43018e+06</td>\n",
       "      <td>2.70639e+06</td>\n",
       "      <td>65.4605</td>\n",
       "    </tr>\n",
       "    <tr>\n",
       "      <th>3</th>\n",
       "      <td>Apr 05, 1999</td>\n",
       "      <td>11.74</td>\n",
       "      <td>12.62</td>\n",
       "      <td>122057</td>\n",
       "      <td>232508</td>\n",
       "      <td>12000</td>\n",
       "      <td>1.43295e+06</td>\n",
       "      <td>2.93425e+06</td>\n",
       "      <td>67.2646</td>\n",
       "    </tr>\n",
       "    <tr>\n",
       "      <th>4</th>\n",
       "      <td>May 03, 1999</td>\n",
       "      <td>11.84</td>\n",
       "      <td>11.14</td>\n",
       "      <td>121043</td>\n",
       "      <td>232508</td>\n",
       "      <td>12000</td>\n",
       "      <td>1.43315e+06</td>\n",
       "      <td>2.59014e+06</td>\n",
       "      <td>64.4612</td>\n",
       "    </tr>\n",
       "  </tbody>\n",
       "</table>\n",
       "</div>"
      ],
      "text/plain": [
       "           Date  Liquid Fund – NAV  Equity Fund – NAV Liquid fund – Units  \\\n",
       "0  Jan 01, 1999              11.41               9.29              125153   \n",
       "1  Feb 01, 1999              11.52              10.23              124112   \n",
       "2  Mar 01, 1999              11.62              11.64              123079   \n",
       "3  Apr 05, 1999              11.74              12.62              122057   \n",
       "4  May 03, 1999              11.84              11.14              121043   \n",
       "\n",
       "  Equity fund – Units Redemption Liquid fund – Value Equity fund – Value  \\\n",
       "0              232508      12000           1.428e+06            2.16e+06   \n",
       "1              232508      12000         1.42977e+06         2.37856e+06   \n",
       "2              232508      12000         1.43018e+06         2.70639e+06   \n",
       "3              232508      12000         1.43295e+06         2.93425e+06   \n",
       "4              232508      12000         1.43315e+06         2.59014e+06   \n",
       "\n",
       "  Equity percent  \n",
       "0        60.2007  \n",
       "1        62.4858  \n",
       "2        65.4605  \n",
       "3        67.2646  \n",
       "4        64.4612  "
      ]
     },
     "execution_count": 17,
     "metadata": {},
     "output_type": "execute_result"
    }
   ],
   "source": [
    "df_data.head()"
   ]
  },
  {
   "cell_type": "code",
   "execution_count": null,
   "metadata": {},
   "outputs": [],
   "source": []
  },
  {
   "cell_type": "code",
   "execution_count": null,
   "metadata": {},
   "outputs": [],
   "source": []
  }
 ],
 "metadata": {
  "kernelspec": {
   "display_name": "Python 3",
   "language": "python",
   "name": "python3"
  },
  "language_info": {
   "codemirror_mode": {
    "name": "ipython",
    "version": 3
   },
   "file_extension": ".py",
   "mimetype": "text/x-python",
   "name": "python",
   "nbconvert_exporter": "python",
   "pygments_lexer": "ipython3",
   "version": "3.7.7"
  }
 },
 "nbformat": 4,
 "nbformat_minor": 4
}
